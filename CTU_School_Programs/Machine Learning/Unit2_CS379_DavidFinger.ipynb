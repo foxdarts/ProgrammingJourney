{
 "cells": [
  {
   "cell_type": "markdown",
   "metadata": {},
   "source": [
    "this jupyter notebook is for Unit 2 for CS379.  the dataset i chose will be a dataset to help identify pokemon and the likelyhood that a random number is a legendary pokemon."
   ]
  },
  {
   "cell_type": "code",
   "execution_count": 1,
   "metadata": {},
   "outputs": [
    {
     "name": "stdout",
     "output_type": "stream",
     "text": [
      "<class 'pandas.core.frame.DataFrame'>\n",
      "RangeIndex: 721 entries, 0 to 720\n",
      "Data columns (total 23 columns):\n",
      " #   Column            Non-Null Count  Dtype  \n",
      "---  ------            --------------  -----  \n",
      " 0   Number            721 non-null    int64  \n",
      " 1   Name              721 non-null    object \n",
      " 2   Type_1            721 non-null    object \n",
      " 3   Type_2            350 non-null    object \n",
      " 4   Total             721 non-null    int64  \n",
      " 5   HP                721 non-null    int64  \n",
      " 6   Attack            721 non-null    int64  \n",
      " 7   Defense           721 non-null    int64  \n",
      " 8   Sp_Atk            721 non-null    int64  \n",
      " 9   Sp_Def            721 non-null    int64  \n",
      " 10  Speed             721 non-null    int64  \n",
      " 11  Generation        721 non-null    int64  \n",
      " 12  isLegendary       721 non-null    bool   \n",
      " 13  Color             721 non-null    object \n",
      " 14  hasGender         721 non-null    bool   \n",
      " 15  Pr_Male           644 non-null    float64\n",
      " 16  Egg_Group_1       721 non-null    object \n",
      " 17  Egg_Group_2       191 non-null    object \n",
      " 18  hasMegaEvolution  721 non-null    bool   \n",
      " 19  Height_m          721 non-null    float64\n",
      " 20  Weight_kg         721 non-null    float64\n",
      " 21  Catch_Rate        721 non-null    int64  \n",
      " 22  Body_Style        721 non-null    object \n",
      "dtypes: bool(3), float64(3), int64(10), object(7)\n",
      "memory usage: 114.9+ KB\n",
      "Legendary: 46 (6.4%)\n",
      "Non Legendary: 675 (93.6%)\n",
      "totals: 721\n",
      "['Grass' 'Fire' 'Water' 'Bug' 'Normal' 'Poison' 'Electric' 'Ground'\n",
      " 'Fairy' 'Fighting' 'Psychic' 'Rock' 'Ghost' 'Ice' 'Dragon' 'Dark' 'Steel'\n",
      " 'Flying']\n",
      "[ 9  6 17  0 12 13  3 10  4  5 14 15  8 11  2  1 16  7]\n",
      "46.53\n"
     ]
    },
    {
     "data": {
      "image/png": "[encoded data removed]",
      "text/plain": [
       "<Figure size 432x288 with 1 Axes>"
      ]
     },
     "metadata": {
      "needs_background": "light"
     },
     "output_type": "display_data"
    },
    {
     "data": {
      "image/png": "[encoded data removed]",
      "text/plain": [
       "<Figure size 432x288 with 1 Axes>"
      ]
     },
     "metadata": {
      "needs_background": "light"
     },
     "output_type": "display_data"
    }
   ],
   "source": [
    "import pandas as pd\n",
    "import seaborn as sns\n",
    "import matplotlib.pyplot as plt\n",
    "import numpy as np\n",
    "\n",
    "from sklearn.model_selection import train_test_split\n",
    "from sklearn.preprocessing import LabelEncoder, StandardScaler\n",
    "from sklearn.tree import DecisionTreeClassifier\n",
    "\n",
    "Poke = pd.read_csv(r'C:\\Users\\foxsq\\OneDrive\\Documents\\ctu school stuff\\Machine Learning\\pokemon.csv')\n",
    "#importing csv file for reading\n",
    "\n",
    "Poke.info() #prints base info for dataset\n",
    "\n",
    "#training for algorithm starts here\n",
    "\n",
    "PTrain = Poke #setting up training portion\n",
    "PTest = Poke #setting up testing portion.\n",
    "\n",
    "PTrain.head(5) #prints training segment first 5 rows.\n",
    "\n",
    "PTrain.describe(include = ['O']) #reads dataset including object values for display.\n",
    "\n",
    "sns.heatmap(PTrain.isnull(), yticklabels = False, cbar = False, cmap = 'viridis') #shows a heatmap pf missing values so we know which columns to drop.\n",
    "\n",
    "PTrain.drop( columns = ['Type_2', 'Egg_Group_2', 'Pr_Male', 'Name', 'Total', 'HP', 'Attack', 'Defense', 'Sp_Atk', 'Sp_Def', 'Speed', 'Generation', 'Color', 'hasGender', 'hasMegaEvolution', 'Egg_Group_1', 'Height_m', 'Weight_kg', 'Body_Style'], inplace = True) #drops unneeded columns\n",
    "\n",
    "#PTrain['Type_2'] = PTrain['Type_2'].fillna('none') #fills values within column of type 2 with none instead of null values.\n",
    "\n",
    "sns.heatmap(PTrain.isnull(), yticklabels = False, cbar = False, cmap = 'viridis') #reprints heatmap to show changes\n",
    "\n",
    "Plegend = PTrain[PTrain['isLegendary'] == 1]\n",
    "PNotLegend = PTrain[PTrain['isLegendary'] == 0] #splits legendary rule into two segments for clarification\n",
    "\n",
    "print('Legendary: %i (%.1f%%)' % (len(Plegend), float(len(Plegend))/len(PTrain)*100.0)) #shows percentage of legendary entries\n",
    "print('Non Legendary: %i (%.1f%%)' % (len(PNotLegend), float(len(PNotLegend))/len(PTrain)*100.0)) #prints total non legendary entries\n",
    "print('totals: %i'%len(PTrain)) #prints total entries in database\n",
    "\n",
    "PTrain.columns #prints the remaining colums that will be used for the split.\n",
    "\n",
    "type_1 = PTrain[['Type_1','isLegendary']].groupby(['Type_1'], as_index = False).mean().set_index('Type_1') #takes type_1 and compairs it to legendary column\n",
    "\n",
    "type_1.sort_values(by = 'isLegendary',ascending = False).plot(kind = 'bar') #ssets the data as a bar plot\n",
    "\n",
    "print(PTrain['Type_1'].unique()) #prints unique values in type 1 column\n",
    "\n",
    "labels = LabelEncoder() #emables transform of text into numbers\n",
    "\n",
    "PTrain.iloc[:,1] = labels.fit_transform(PTrain.iloc[:,1].values) #transforms uniques into numbers\n",
    "\n",
    "print(PTrain['Type_1'].unique()) #prints transformed values\n",
    "\n",
    "X = PTrain.iloc[: , 1:8] #splits data into 80%training\n",
    "Y = PTrain.iloc[: , 0] #and 20 percent testing\n",
    "\n",
    "X_train, X_test, Y_train, Y_test = train_test_split(X, Y, test_size = .6, random_state = 0) #actual split of data into testing and training\n",
    "\n",
    "SD = StandardScaler() #scaled dataset\n",
    "X_train = SD.fit_transform(X_train)\n",
    "X_test = SD.transform(X_test)\n",
    "\n",
    "Shiney = DecisionTreeClassifier() #decision tree for classification fits dataset best.\n",
    "Shiney.fit(X_train, Y_train)\n",
    "y_pred_decision_tree = Shiney.predict(X_test)\n",
    "acc_decision_tree = round(Shiney.score(X_train, Y_train) * 100, 2)\n",
    "print (acc_decision_tree) #decision tree logic.\n"
   ]
  },
  {
   "cell_type": "markdown",
   "metadata": {},
   "source": [
    "this is for the final markdown and notes. legendary prediction is 46% accurite when fed the right data."
   ]
  }
 ],
 "metadata": {
  "interpreter": {
   "hash": "097ff149f4f1647f8cfefcf116c7b1f0ab6b5406ef392ab0b19075a3fb2e7c97"
  },
  "kernelspec": {
   "display_name": "Python 3.8.8 64-bit ('base': conda)",
   "name": "python3"
  },
  "language_info": {
   "codemirror_mode": {
    "name": "ipython",
    "version": 3
   },
   "file_extension": ".py",
   "mimetype": "text/x-python",
   "name": "python",
   "nbconvert_exporter": "python",
   "pygments_lexer": "ipython3",
   "version": "3.8.8"
  },
  "orig_nbformat": 4
 },
 "nbformat": 4,
 "nbformat_minor": 2
}
