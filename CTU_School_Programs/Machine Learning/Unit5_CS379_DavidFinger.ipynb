{
 "cells": [
  {
   "cell_type": "markdown",
   "metadata": {},
   "source": [
    "this notebook is to be used for CS379 for david Finger unit 5. created on 10/14/2021.  this program will create a decision tree algorithm and display a visualisation of the predicted results.\n",
    "the dataset chosen is a bank note autentication dataset. dataset taken from \"Decision Trees in Python with Scikit-Learn. (2018, February 28). Stack Abuse. https://stackabuse.com/decision-trees-in-python-with-scikit-learn/\"\n"
   ]
  },
  {
   "cell_type": "code",
   "execution_count": 36,
   "metadata": {},
   "outputs": [],
   "source": [
    "import numpy as NM\n",
    "import pandas as PD\n",
    "\n",
    "import matplotlib.pyplot as PLT #provides output for visualization\n",
    "\n",
    "from sklearn.model_selection import train_test_split #imports sklearn models for training and testing\n",
    "\n",
    "from sklearn.tree import DecisionTreeClassifier #imports decision tree for use.\n",
    "\n",
    "from sklearn.metrics import classification_report, confusion_matrix"
   ]
  },
  {
   "cell_type": "markdown",
   "metadata": {},
   "source": [
    "the above code segment handles all imports for the jupyter file."
   ]
  },
  {
   "cell_type": "code",
   "execution_count": 37,
   "metadata": {},
   "outputs": [
    {
     "name": "stdout",
     "output_type": "stream",
     "text": [
      "(1372, 5)\n",
      "\n"
     ]
    },
    {
     "data": {
      "text/html": [
       "<div>\n",
       "<style scoped>\n",
       "    .dataframe tbody tr th:only-of-type {\n",
       "        vertical-align: middle;\n",
       "    }\n",
       "\n",
       "    .dataframe tbody tr th {\n",
       "        vertical-align: top;\n",
       "    }\n",
       "\n",
       "    .dataframe thead th {\n",
       "        text-align: right;\n",
       "    }\n",
       "</style>\n",
       "<table border=\"1\" class=\"dataframe\">\n",
       "  <thead>\n",
       "    <tr style=\"text-align: right;\">\n",
       "      <th></th>\n",
       "      <th>Variance</th>\n",
       "      <th>Skewness</th>\n",
       "      <th>Curtosis</th>\n",
       "      <th>Entropy</th>\n",
       "      <th>Class</th>\n",
       "    </tr>\n",
       "  </thead>\n",
       "  <tbody>\n",
       "    <tr>\n",
       "      <th>0</th>\n",
       "      <td>3.62160</td>\n",
       "      <td>8.6661</td>\n",
       "      <td>-2.8073</td>\n",
       "      <td>-0.44699</td>\n",
       "      <td>0</td>\n",
       "    </tr>\n",
       "    <tr>\n",
       "      <th>1</th>\n",
       "      <td>4.54590</td>\n",
       "      <td>8.1674</td>\n",
       "      <td>-2.4586</td>\n",
       "      <td>-1.46210</td>\n",
       "      <td>0</td>\n",
       "    </tr>\n",
       "    <tr>\n",
       "      <th>2</th>\n",
       "      <td>3.86600</td>\n",
       "      <td>-2.6383</td>\n",
       "      <td>1.9242</td>\n",
       "      <td>0.10645</td>\n",
       "      <td>0</td>\n",
       "    </tr>\n",
       "    <tr>\n",
       "      <th>3</th>\n",
       "      <td>3.45660</td>\n",
       "      <td>9.5228</td>\n",
       "      <td>-4.0112</td>\n",
       "      <td>-3.59440</td>\n",
       "      <td>0</td>\n",
       "    </tr>\n",
       "    <tr>\n",
       "      <th>4</th>\n",
       "      <td>0.32924</td>\n",
       "      <td>-4.4552</td>\n",
       "      <td>4.5718</td>\n",
       "      <td>-0.98880</td>\n",
       "      <td>0</td>\n",
       "    </tr>\n",
       "  </tbody>\n",
       "</table>\n",
       "</div>"
      ],
      "text/plain": [
       "   Variance  Skewness  Curtosis  Entropy  Class\n",
       "0   3.62160    8.6661   -2.8073 -0.44699      0\n",
       "1   4.54590    8.1674   -2.4586 -1.46210      0\n",
       "2   3.86600   -2.6383    1.9242  0.10645      0\n",
       "3   3.45660    9.5228   -4.0112 -3.59440      0\n",
       "4   0.32924   -4.4552    4.5718 -0.98880      0"
      ]
     },
     "execution_count": 37,
     "metadata": {},
     "output_type": "execute_result"
    }
   ],
   "source": [
    "BNA = PD.read_csv('bill_authentication.csv') #loads the dataset into pandas. BNA is Bank Note Authentication\n",
    "\n",
    "print (BNA.shape) #gives us the shape of the dataset\n",
    "print() #gives us a space in the code to seperate result visualizations\n",
    "BNA.head() #prints the head of the dataset so we can see raw data.\n",
    "\n"
   ]
  },
  {
   "cell_type": "markdown",
   "metadata": {},
   "source": [
    "the above code segment loads the dataset into pandas for reading and displays basic information about the dataset."
   ]
  },
  {
   "cell_type": "code",
   "execution_count": 38,
   "metadata": {},
   "outputs": [
    {
     "name": "stdout",
     "output_type": "stream",
     "text": [
      "[0 1 0 0 0 0 0 0 1 0 1 0 0 1 0 0 0 1 1 0 1 1 0 1 0 0 1 1 0 0 1 0 1 0 1 1 1\n",
      " 1 1 0 0 0 0 1 0 0 0 0 1 1 0 1 1 0 0 0 1 1 1 1 0 1 1 0 1 0 0 1 0 1 0 0 1 1\n",
      " 0 0 0 1 0 0 0 1 0 1 0 0 1 0 0 0 1 0 0 0 0 0 0 1 1 1 0 1 0 0 1 0 1 1 0 0 0\n",
      " 1 0 1 1 0 0 0 1 0 1 0 0 1 1 0 0 0 0 0 1 1 1 0 1 0 0 0 0 0 1 1 1 0 0 1 0 0\n",
      " 0 0 1 0 0 0 0 1 1 1 0 0 1 0 1 0 1 0 0 1 1 1 0 0 1 1 0 0 1 0 1 1 0 0 0 1 1\n",
      " 0 1 0 0 0 0 0 0 0 1 0 0 1 0 0 1 1 1 1 0 1 0 1 0 1 0 0 1 1 0 0 0 1 1 0 0 0\n",
      " 1 1 0 0 0 0 0 0 1 0 0 1 1 1 1 0 1 0 0 1 1 1 1 1 1 1 1 0 0 1 1 1 1 1 0 1 0\n",
      " 1 1 0 1 0 0 1 0 0 0 1 0 0 0 1 1]\n"
     ]
    }
   ],
   "source": [
    "#splitting and training the dataset begins here\n",
    "\n",
    "\n",
    "X = BNA.drop('Class', axis = 1) #drops class as it is a unneeded column\n",
    "Y = BNA['Class'] #puts class as the only column in Y\n",
    "\n",
    "\n",
    "X_Train, X_Test, Y_Train, Y_Test = train_test_split(X, Y, test_size = .2) #sets up data to be split for training and testing\n",
    "\n",
    "Tree = DecisionTreeClassifier() #sets the desision tree to its variable we will use.\n",
    "\n",
    "Tree.fit(X_Train, Y_Train) #puts data into splits\n",
    "\n",
    "Y_Predict = Tree.predict(X_Test) #sets a prediction for the datset\n",
    "\n",
    "print (Y_Predict) #prints the prediction"
   ]
  },
  {
   "cell_type": "markdown",
   "metadata": {},
   "source": [
    "the above code starts the data training and testing.  splitting the data into 80% training and 20% testing.  then creates a predition for the dataset."
   ]
  },
  {
   "cell_type": "code",
   "execution_count": 39,
   "metadata": {},
   "outputs": [
    {
     "name": "stdout",
     "output_type": "stream",
     "text": [
      "[[153   6]\n",
      " [  1 115]]\n",
      "              precision    recall  f1-score   support\n",
      "\n",
      "           0       0.99      0.96      0.98       159\n",
      "           1       0.95      0.99      0.97       116\n",
      "\n",
      "    accuracy                           0.97       275\n",
      "   macro avg       0.97      0.98      0.97       275\n",
      "weighted avg       0.98      0.97      0.97       275\n",
      "\n"
     ]
    }
   ],
   "source": [
    "print (confusion_matrix(Y_Test, Y_Predict)) #prints a confusion matrixs from the prediction against recorded data.\n",
    "\n",
    "print (classification_report (Y_Test, Y_Predict)) #shows the average accuricy of predicted values to recorded data."
   ]
  },
  {
   "cell_type": "markdown",
   "metadata": {},
   "source": [
    "these results show that this program has a very high accuricy when it comes to detecting fake notes that come into the system.  in 275 tests that the prediction created it was able to correctly identify it 97% of the time as the correct thing, that being either a true note or a fake note."
   ]
  }
 ],
 "metadata": {
  "interpreter": {
   "hash": "097ff149f4f1647f8cfefcf116c7b1f0ab6b5406ef392ab0b19075a3fb2e7c97"
  },
  "kernelspec": {
   "display_name": "Python 3.8.8 64-bit ('base': conda)",
   "name": "python3"
  },
  "language_info": {
   "codemirror_mode": {
    "name": "ipython",
    "version": 3
   },
   "file_extension": ".py",
   "mimetype": "text/x-python",
   "name": "python",
   "nbconvert_exporter": "python",
   "pygments_lexer": "ipython3",
   "version": "3.8.8"
  },
  "orig_nbformat": 4
 },
 "nbformat": 4,
 "nbformat_minor": 2
}
